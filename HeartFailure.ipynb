{
 "cells": [
  {
   "cell_type": "markdown",
   "metadata": {
    "id": "iunQfrzoxR_b"
   },
   "source": [
    "# Referência - Curso de Aprendizado de Máquinas que fiz na Escola de Férias.\n",
    "\n",
    "\n"
   ]
  },
  {
   "cell_type": "markdown",
   "metadata": {},
   "source": [
    "# Introdução\n"
   ]
  },
  {
   "cell_type": "markdown",
   "metadata": {
    "id": "cUkrJH_3ykr_"
   },
   "source": []
  },
  {
   "cell_type": "markdown",
   "metadata": {
    "id": "GqQ-aVvLxY_z"
   },
   "source": [
    "Neste pequeno projeto, é ilustrado a aplicação de alguns modelos de Machine Learning, tais como  Regressão Logística, kNN, Decision Tree, Random Forest e Support Vector Machine, em um problema envolvendo pacientes com problemas cardíacos. O objetivo é criar um modelo capaz de \"prever\" se um determinado indivíduo virá a óbito.\n",
    "Os dados são do artigo: *Davide Chicco, Giuseppe Jurman: Machine learning can predict survival of patients with heart failure from serum creatinine and ejection fraction alone. BMC Medical Informatics and Decision Making 20, 16 (2020).* Você encontra  [aqui.](https://bmcmedinformdecismak.biomedcentral.com/articles/10.1186/s12911-020-1023-5)\n",
    "\n",
    "\n",
    "\n",
    "\n",
    "\n"
   ]
  },
  {
   "cell_type": "markdown",
   "metadata": {
    "id": "LBEaxZkj0KwO"
   },
   "source": []
  },
  {
   "cell_type": "markdown",
   "metadata": {
    "id": "PKHqb5LB0OGf"
   },
   "source": [
    "Começamos importando o pandas e fixando a semente aleatória"
   ]
  },
  {
   "cell_type": "code",
   "execution_count": 1,
   "metadata": {
    "id": "2WbD8Ol3qjir"
   },
   "outputs": [],
   "source": [
    "import pandas as pd\n",
    "seed = 0 # Fixar a semente aleatória dos algoritmos"
   ]
  },
  {
   "cell_type": "markdown",
   "metadata": {
    "id": "HAav20nM0XLb"
   },
   "source": [
    "Vamos carregar o dataset e visualizar o conjunto de dados. \n",
    "\n",
    "\n",
    "*   É legal visualizar o dataset para verificar um pouco da sua estrutura.\n",
    "*   Existem outras maneiras mais espertas de carregar um dataset. Poderia ser por exemplo à partir da própria internet, através de um link http.\n",
    "\n",
    "\n",
    "\n"
   ]
  },
  {
   "cell_type": "code",
   "execution_count": 2,
   "metadata": {
    "colab": {
     "base_uri": "https://localhost:8080/",
     "height": 215
    },
    "id": "29md02140mGO",
    "outputId": "4fbc1ddc-70cb-4279-9091-3b6b048153be"
   },
   "outputs": [
    {
     "data": {
      "text/html": [
       "<div>\n",
       "<style scoped>\n",
       "    .dataframe tbody tr th:only-of-type {\n",
       "        vertical-align: middle;\n",
       "    }\n",
       "\n",
       "    .dataframe tbody tr th {\n",
       "        vertical-align: top;\n",
       "    }\n",
       "\n",
       "    .dataframe thead th {\n",
       "        text-align: right;\n",
       "    }\n",
       "</style>\n",
       "<table border=\"1\" class=\"dataframe\">\n",
       "  <thead>\n",
       "    <tr style=\"text-align: right;\">\n",
       "      <th></th>\n",
       "      <th>age</th>\n",
       "      <th>anaemia</th>\n",
       "      <th>creatinine_phosphokinase</th>\n",
       "      <th>diabetes</th>\n",
       "      <th>ejection_fraction</th>\n",
       "      <th>high_blood_pressure</th>\n",
       "      <th>platelets</th>\n",
       "      <th>serum_creatinine</th>\n",
       "      <th>serum_sodium</th>\n",
       "      <th>sex</th>\n",
       "      <th>smoking</th>\n",
       "      <th>time</th>\n",
       "      <th>DEATH_EVENT</th>\n",
       "    </tr>\n",
       "  </thead>\n",
       "  <tbody>\n",
       "    <tr>\n",
       "      <th>0</th>\n",
       "      <td>75.0</td>\n",
       "      <td>0</td>\n",
       "      <td>582</td>\n",
       "      <td>0</td>\n",
       "      <td>20</td>\n",
       "      <td>1</td>\n",
       "      <td>265000.00</td>\n",
       "      <td>1.9</td>\n",
       "      <td>130</td>\n",
       "      <td>1</td>\n",
       "      <td>0</td>\n",
       "      <td>4</td>\n",
       "      <td>1</td>\n",
       "    </tr>\n",
       "    <tr>\n",
       "      <th>1</th>\n",
       "      <td>55.0</td>\n",
       "      <td>0</td>\n",
       "      <td>7861</td>\n",
       "      <td>0</td>\n",
       "      <td>38</td>\n",
       "      <td>0</td>\n",
       "      <td>263358.03</td>\n",
       "      <td>1.1</td>\n",
       "      <td>136</td>\n",
       "      <td>1</td>\n",
       "      <td>0</td>\n",
       "      <td>6</td>\n",
       "      <td>1</td>\n",
       "    </tr>\n",
       "    <tr>\n",
       "      <th>2</th>\n",
       "      <td>65.0</td>\n",
       "      <td>0</td>\n",
       "      <td>146</td>\n",
       "      <td>0</td>\n",
       "      <td>20</td>\n",
       "      <td>0</td>\n",
       "      <td>162000.00</td>\n",
       "      <td>1.3</td>\n",
       "      <td>129</td>\n",
       "      <td>1</td>\n",
       "      <td>1</td>\n",
       "      <td>7</td>\n",
       "      <td>1</td>\n",
       "    </tr>\n",
       "    <tr>\n",
       "      <th>3</th>\n",
       "      <td>50.0</td>\n",
       "      <td>1</td>\n",
       "      <td>111</td>\n",
       "      <td>0</td>\n",
       "      <td>20</td>\n",
       "      <td>0</td>\n",
       "      <td>210000.00</td>\n",
       "      <td>1.9</td>\n",
       "      <td>137</td>\n",
       "      <td>1</td>\n",
       "      <td>0</td>\n",
       "      <td>7</td>\n",
       "      <td>1</td>\n",
       "    </tr>\n",
       "    <tr>\n",
       "      <th>4</th>\n",
       "      <td>65.0</td>\n",
       "      <td>1</td>\n",
       "      <td>160</td>\n",
       "      <td>1</td>\n",
       "      <td>20</td>\n",
       "      <td>0</td>\n",
       "      <td>327000.00</td>\n",
       "      <td>2.7</td>\n",
       "      <td>116</td>\n",
       "      <td>0</td>\n",
       "      <td>0</td>\n",
       "      <td>8</td>\n",
       "      <td>1</td>\n",
       "    </tr>\n",
       "  </tbody>\n",
       "</table>\n",
       "</div>"
      ],
      "text/plain": [
       "    age  anaemia  creatinine_phosphokinase  diabetes  ejection_fraction  \\\n",
       "0  75.0        0                       582         0                 20   \n",
       "1  55.0        0                      7861         0                 38   \n",
       "2  65.0        0                       146         0                 20   \n",
       "3  50.0        1                       111         0                 20   \n",
       "4  65.0        1                       160         1                 20   \n",
       "\n",
       "   high_blood_pressure  platelets  serum_creatinine  serum_sodium  sex  \\\n",
       "0                    1  265000.00               1.9           130    1   \n",
       "1                    0  263358.03               1.1           136    1   \n",
       "2                    0  162000.00               1.3           129    1   \n",
       "3                    0  210000.00               1.9           137    1   \n",
       "4                    0  327000.00               2.7           116    0   \n",
       "\n",
       "   smoking  time  DEATH_EVENT  \n",
       "0        0     4            1  \n",
       "1        0     6            1  \n",
       "2        1     7            1  \n",
       "3        0     7            1  \n",
       "4        0     8            1  "
      ]
     },
     "execution_count": 2,
     "metadata": {},
     "output_type": "execute_result"
    }
   ],
   "source": [
    "data = pd.read_csv('heart_failure.csv')\n",
    "data.head()"
   ]
  },
  {
   "cell_type": "markdown",
   "metadata": {
    "id": "5t8hqbuptpOw"
   },
   "source": [
    "Você pode verificar com mais detalhes o significado de cada um dos atributos aqui nesse [link](https://bmcmedinformdecismak.biomedcentral.com/articles/10.1186/s12911-020-1023-5/tables/1)."
   ]
  },
  {
   "cell_type": "markdown",
   "metadata": {
    "id": "0EsZ7XwVsTsx"
   },
   "source": [
    "Vamos escrever na matriz X as features e no vetor Y os rótulos associados. \n",
    "\n",
    "\n"
   ]
  },
  {
   "cell_type": "code",
   "execution_count": 3,
   "metadata": {
    "id": "lRU1noi0sSpd"
   },
   "outputs": [],
   "source": [
    "X = data.iloc[:, 0:-1].values #features: da primeira até a penúltima coluna\n",
    "y = data.iloc[:, -1].values #rótulo: última coluna"
   ]
  },
  {
   "cell_type": "markdown",
   "metadata": {
    "id": "esxxRJ2hs3_4"
   },
   "source": [
    "Começamos separando o conjunto de treino e teste O pré-processamento, se feito no conjunto completo, não pode introduzir  informações futura no conjunto de treino. É importante salientar que se você deseja uma estimativa do erro de generalização, que é dado em termos de uma probabilidade independente do conjunto de treino, você deve usar o conjunto de teste uma única vez!"
   ]
  },
  {
   "cell_type": "code",
   "execution_count": 4,
   "metadata": {
    "id": "5M345Qvms77k"
   },
   "outputs": [],
   "source": [
    "from sklearn.model_selection import train_test_split\n",
    "\n",
    "X_train, X_test, y_train, y_test = train_test_split(X, \n",
    "                                                    y, \n",
    "                                                    test_size = 1/3, \n",
    "                                                    random_state = seed)"
   ]
  },
  {
   "cell_type": "markdown",
   "metadata": {
    "id": "cNTfDYAUuJSR"
   },
   "source": [
    "Separar o conjunto de treino em duas partes, uma será usada para validação. Faremos isso pois queremos treinar alguns modelos e verificar qual deles é o melhor candidato para generalização. Dito isto, dado que só devemos usar o \n",
    "conjunto de teste uma única vez, devemos fazer a decisão da escolha do \n",
    "melhor modelo \"no próprio conjunto de treino\". "
   ]
  },
  {
   "cell_type": "code",
   "execution_count": 5,
   "metadata": {
    "id": "gUGb9-9LuMD0"
   },
   "outputs": [],
   "source": [
    "X_train_2, X_val, y_train_2, y_val = train_test_split(X_train,\n",
    "                                                      y_train, \n",
    "                                                      test_size = 1/3, \n",
    "                                                      random_state = seed)"
   ]
  },
  {
   "cell_type": "markdown",
   "metadata": {
    "id": "ARhJeiaauS7K"
   },
   "source": [
    "Tipicamente os algoritmos necessitam que todas as características estejam em faixas similares de intervalos, por isso a importância de colocar todos os atributos na mesma escala."
   ]
  },
  {
   "cell_type": "code",
   "execution_count": 6,
   "metadata": {
    "id": "PiSk_STbuPcE"
   },
   "outputs": [],
   "source": [
    "# Feature Scaling: alguns algoritmos são sensíveis à escala\n",
    "from sklearn.preprocessing import MinMaxScaler\n",
    "scaler = MinMaxScaler()\n",
    "X_train_2 = scaler.fit_transform(X_train_2)\n",
    "X_val = scaler.transform(X_val)"
   ]
  },
  {
   "cell_type": "markdown",
   "metadata": {
    "id": "UXvJ-gaWujVv"
   },
   "source": [
    "Agora vamos avaliar diversos modelos para encontrar o melhor candidato. \n",
    "Faremos isso da maneira \"feia\" apenas por uma questão de simplicidade."
   ]
  },
  {
   "cell_type": "code",
   "execution_count": 7,
   "metadata": {
    "id": "tbnazLMkugDN"
   },
   "outputs": [],
   "source": [
    "#Dicionário de resultados\n",
    "dic = {}"
   ]
  },
  {
   "cell_type": "markdown",
   "metadata": {
    "id": "xgVUnd7auquj"
   },
   "source": [
    "Para comparar os resultados vamos usar a acurácia\n"
   ]
  },
  {
   "cell_type": "code",
   "execution_count": 8,
   "metadata": {
    "id": "O5yoX_tGunlB"
   },
   "outputs": [],
   "source": [
    "from sklearn.metrics import accuracy_score"
   ]
  },
  {
   "cell_type": "markdown",
   "metadata": {
    "id": "LDqIGFi5uv-l"
   },
   "source": [
    "# Regressão Logística\n"
   ]
  },
  {
   "cell_type": "code",
   "execution_count": 9,
   "metadata": {
    "colab": {
     "base_uri": "https://localhost:8080/"
    },
    "id": "IAjuo5QKuujG",
    "outputId": "5fca8be4-89f5-4907-fe2e-f6388659b468"
   },
   "outputs": [
    {
     "data": {
      "text/plain": [
       "LogisticRegression(C=1.0, class_weight=None, dual=False, fit_intercept=True,\n",
       "                   intercept_scaling=1, l1_ratio=None, max_iter=100,\n",
       "                   multi_class='auto', n_jobs=None, penalty='l2',\n",
       "                   random_state=0, solver='lbfgs', tol=0.0001, verbose=0,\n",
       "                   warm_start=False)"
      ]
     },
     "execution_count": 9,
     "metadata": {},
     "output_type": "execute_result"
    }
   ],
   "source": [
    "from sklearn.linear_model import LogisticRegression\n",
    "lr = LogisticRegression(random_state = seed)\n",
    "lr.fit(X_train_2, y_train_2)"
   ]
  },
  {
   "cell_type": "code",
   "execution_count": 10,
   "metadata": {
    "id": "dgIDCfadu30t"
   },
   "outputs": [],
   "source": [
    "# Avaliando a regressão logística e anotando no dicionário\n",
    "dic[\"Logistic_regression\"] = accuracy_score(y_val, lr.predict(X_val))"
   ]
  },
  {
   "cell_type": "markdown",
   "metadata": {
    "id": "34xHbr0nvCUS"
   },
   "source": [
    "# KNN\n"
   ]
  },
  {
   "cell_type": "code",
   "execution_count": 11,
   "metadata": {
    "colab": {
     "base_uri": "https://localhost:8080/"
    },
    "id": "MHEwfGzFvDvc",
    "outputId": "4aea18c5-09dc-48ff-94a6-fc400317d0dd"
   },
   "outputs": [
    {
     "data": {
      "text/plain": [
       "KNeighborsClassifier(algorithm='auto', leaf_size=30, metric='minkowski',\n",
       "                     metric_params=None, n_jobs=None, n_neighbors=7, p=2,\n",
       "                     weights='uniform')"
      ]
     },
     "execution_count": 11,
     "metadata": {},
     "output_type": "execute_result"
    }
   ],
   "source": [
    "# Treinando o k-NN\n",
    "from sklearn.neighbors import KNeighborsClassifier\n",
    "knn = KNeighborsClassifier(n_neighbors = 7)\n",
    "knn.fit(X_train_2, y_train_2)"
   ]
  },
  {
   "cell_type": "code",
   "execution_count": 12,
   "metadata": {
    "id": "eyaPLpcxvGg9"
   },
   "outputs": [],
   "source": [
    "# Avaliando o k-NN e anotando no dicionário\n",
    "dic[\"kNN_7\"] =  accuracy_score(y_val, knn.predict(X_val))"
   ]
  },
  {
   "cell_type": "markdown",
   "metadata": {
    "id": "2wEJV_FJvQUF"
   },
   "source": [
    "# Decision Tree\n"
   ]
  },
  {
   "cell_type": "code",
   "execution_count": 13,
   "metadata": {
    "colab": {
     "base_uri": "https://localhost:8080/"
    },
    "id": "Gszg33CDvUsJ",
    "outputId": "400e638d-e9b7-42f3-80cc-82097d5c9aab"
   },
   "outputs": [
    {
     "data": {
      "text/plain": [
       "DecisionTreeClassifier(ccp_alpha=0.0, class_weight=None, criterion='gini',\n",
       "                       max_depth=4, max_features=None, max_leaf_nodes=None,\n",
       "                       min_impurity_decrease=0.0, min_impurity_split=None,\n",
       "                       min_samples_leaf=1, min_samples_split=2,\n",
       "                       min_weight_fraction_leaf=0.0, presort='deprecated',\n",
       "                       random_state=0, splitter='best')"
      ]
     },
     "execution_count": 13,
     "metadata": {},
     "output_type": "execute_result"
    }
   ],
   "source": [
    "#Treinando uma árvore de decisão\n",
    "from sklearn.tree import DecisionTreeClassifier\n",
    "tree = DecisionTreeClassifier(max_depth = 4, random_state = seed)\n",
    "tree.fit(X_train_2, y_train_2)"
   ]
  },
  {
   "cell_type": "code",
   "execution_count": 14,
   "metadata": {
    "id": "xsV1jvP5vVWk"
   },
   "outputs": [],
   "source": [
    "# Avaliando a árvore e anotando no dicionário\n",
    "dic[\"Decision_tree_4\"] = accuracy_score(y_val, tree.predict(X_val))"
   ]
  },
  {
   "cell_type": "markdown",
   "metadata": {
    "id": "vo47phTpvvim"
   },
   "source": [
    "# Random Forest\n"
   ]
  },
  {
   "cell_type": "code",
   "execution_count": 15,
   "metadata": {
    "id": "f6vyWTRgvwDj"
   },
   "outputs": [],
   "source": [
    "#Treinando uma floresta aleatória\n",
    "from sklearn.ensemble import RandomForestClassifier\n",
    "\n",
    "rf = RandomForestClassifier(n_estimators= 100, \n",
    "                            random_state = seed)"
   ]
  },
  {
   "cell_type": "code",
   "execution_count": 16,
   "metadata": {
    "id": "_PwXh2DbvzAk"
   },
   "outputs": [],
   "source": [
    "# Avaliando a florest aleatória e anotando no dicionário\n",
    "rf.fit(X_train_2, y_train_2)\n",
    "dic[\"Random_forest_100\"] = accuracy_score(y_val, rf.predict(X_val))"
   ]
  },
  {
   "cell_type": "markdown",
   "metadata": {
    "id": "73TYfevKv2p0"
   },
   "source": [
    "# Linear Support Vector Machine"
   ]
  },
  {
   "cell_type": "code",
   "execution_count": 17,
   "metadata": {
    "id": "s2esCY1YwBVD"
   },
   "outputs": [],
   "source": [
    "from sklearn.svm import LinearSVC\n",
    "svc = LinearSVC()"
   ]
  },
  {
   "cell_type": "code",
   "execution_count": 18,
   "metadata": {
    "id": "q2Lg6a5UwCPj"
   },
   "outputs": [],
   "source": [
    "#Avaliando o support vector machine e anotando no dicionário\n",
    "svc.fit(X_train_2, y_train_2)\n",
    "dic[\"SVC\"] = accuracy_score(y_val, svc.predict(X_val))"
   ]
  },
  {
   "cell_type": "markdown",
   "metadata": {
    "id": "sgH520eYwqA4"
   },
   "source": [
    "# Avaliando modelos\n"
   ]
  },
  {
   "cell_type": "code",
   "execution_count": 19,
   "metadata": {
    "id": "HcBFDzHVwtjE"
   },
   "outputs": [],
   "source": [
    "validation = pd.Series(dic, name=\"Acurácia\")"
   ]
  },
  {
   "cell_type": "code",
   "execution_count": 20,
   "metadata": {
    "colab": {
     "base_uri": "https://localhost:8080/"
    },
    "id": "uuTy1YI0wwMH",
    "outputId": "9d8185e2-0d66-4b6d-bb29-9f8e0b88b99e"
   },
   "outputs": [
    {
     "data": {
      "text/plain": [
       "Logistic_regression    0.791045\n",
       "kNN_7                  0.671642\n",
       "Decision_tree_4        0.701493\n",
       "Random_forest_100      0.776119\n",
       "SVC                    0.761194\n",
       "Name: Acurácia, dtype: float64"
      ]
     },
     "execution_count": 20,
     "metadata": {},
     "output_type": "execute_result"
    }
   ],
   "source": [
    "validation"
   ]
  },
  {
   "cell_type": "markdown",
   "metadata": {
    "id": "cJZvGIZHw6M9"
   },
   "source": [
    "# Treinando o modelo final\n"
   ]
  },
  {
   "cell_type": "markdown",
   "metadata": {
    "id": "hz70Vfnxw-M2"
   },
   "source": [
    "Uma vez definido o melhor modelo, que deverá ser decidido usando **somente o conjunto de treinamento**, podemos utilizar o conjunto de teste para estimar o erro de generalização."
   ]
  },
  {
   "cell_type": "code",
   "execution_count": 21,
   "metadata": {
    "id": "eYq8R5euw72z"
   },
   "outputs": [],
   "source": [
    "#Treinando o melhor modelo no conjunto inteiro:\n",
    "scaler = MinMaxScaler()    \n",
    "X_train = scaler.fit_transform(X_train)\n",
    "X_test = scaler.transform(X_test)  "
   ]
  },
  {
   "cell_type": "markdown",
   "metadata": {
    "id": "33Vldmok1OwR"
   },
   "source": [
    "Aqui você deve usar o algoritmo que demonstrou possuir melhor performance"
   ]
  },
  {
   "cell_type": "code",
   "execution_count": 22,
   "metadata": {
    "colab": {
     "base_uri": "https://localhost:8080/"
    },
    "id": "j1wqq2RQ1NU7",
    "outputId": "d1ab52c5-963e-482b-9e84-40207e7d099a"
   },
   "outputs": [
    {
     "data": {
      "text/plain": [
       "LogisticRegression(C=1.0, class_weight=None, dual=False, fit_intercept=True,\n",
       "                   intercept_scaling=1, l1_ratio=None, max_iter=100,\n",
       "                   multi_class='auto', n_jobs=None, penalty='l2',\n",
       "                   random_state=0, solver='lbfgs', tol=0.0001, verbose=0,\n",
       "                   warm_start=False)"
      ]
     },
     "execution_count": 22,
     "metadata": {},
     "output_type": "execute_result"
    }
   ],
   "source": [
    "lr = LogisticRegression(random_state = seed)     \n",
    "lr.fit(X_train, y_train) "
   ]
  },
  {
   "cell_type": "code",
   "execution_count": 23,
   "metadata": {
    "colab": {
     "base_uri": "https://localhost:8080/"
    },
    "id": "LXwZGwu6xJpE",
    "outputId": "e4056d93-64c5-46e6-dd8b-61d166c8cd50"
   },
   "outputs": [
    {
     "name": "stdout",
     "output_type": "stream",
     "text": [
      "Acurácia final:  0.79\n"
     ]
    }
   ],
   "source": [
    "print(\"Acurácia final: \", str(accuracy_score(y_test, lr.predict(X_test))))"
   ]
  },
  {
   "cell_type": "code",
   "execution_count": null,
   "metadata": {
    "id": "dmOpexjt1aTj"
   },
   "outputs": [],
   "source": []
  }
 ],
 "metadata": {
  "colab": {
   "name": "Primeira_pratica_heart_failure (1).ipynb",
   "provenance": [],
   "toc_visible": true
  },
  "kernelspec": {
   "display_name": "Python 3",
   "language": "python",
   "name": "python3"
  },
  "language_info": {
   "codemirror_mode": {
    "name": "ipython",
    "version": 3
   },
   "file_extension": ".py",
   "mimetype": "text/x-python",
   "name": "python",
   "nbconvert_exporter": "python",
   "pygments_lexer": "ipython3",
   "version": "3.7.6"
  }
 },
 "nbformat": 4,
 "nbformat_minor": 1
}
