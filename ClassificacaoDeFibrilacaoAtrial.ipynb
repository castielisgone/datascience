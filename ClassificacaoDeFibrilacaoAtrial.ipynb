{
 "cells": [
  {
   "cell_type": "code",
   "execution_count": 10,
   "metadata": {},
   "outputs": [],
   "source": [
    "#Projeto de classificação de Fibrilação Atrial por meio de extração de características através de\n",
    "#Estatísticas de Alta Ordem\n",
    "import pandas as pd\n",
    "import matplotlib.pyplot as plt\n",
    "import numpy as np"
   ]
  },
  {
   "cell_type": "code",
   "execution_count": 13,
   "metadata": {},
   "outputs": [],
   "source": [
    "#Esse dataset foi preparado com a extração das características por meio da Variância dos dados\n",
    "# e da curtose dos mesmos, rotulando em 1 e 2 para saudável, e com a patologia, respectivamente\n",
    "df = pd.read_csv(\"artigoSABIOVARCUR.csv\", names=['VAR','KURT', 'CLASSE'])"
   ]
  },
  {
   "cell_type": "code",
   "execution_count": 14,
   "metadata": {},
   "outputs": [
    {
     "data": {
      "text/html": [
       "<div>\n",
       "<style scoped>\n",
       "    .dataframe tbody tr th:only-of-type {\n",
       "        vertical-align: middle;\n",
       "    }\n",
       "\n",
       "    .dataframe tbody tr th {\n",
       "        vertical-align: top;\n",
       "    }\n",
       "\n",
       "    .dataframe thead th {\n",
       "        text-align: right;\n",
       "    }\n",
       "</style>\n",
       "<table border=\"1\" class=\"dataframe\">\n",
       "  <thead>\n",
       "    <tr style=\"text-align: right;\">\n",
       "      <th></th>\n",
       "      <th>VAR</th>\n",
       "      <th>KURT</th>\n",
       "      <th>CLASSE</th>\n",
       "    </tr>\n",
       "  </thead>\n",
       "  <tbody>\n",
       "    <tr>\n",
       "      <th>0</th>\n",
       "      <td>0.002348</td>\n",
       "      <td>12.155</td>\n",
       "      <td>1</td>\n",
       "    </tr>\n",
       "    <tr>\n",
       "      <th>1</th>\n",
       "      <td>0.002603</td>\n",
       "      <td>12.709</td>\n",
       "      <td>1</td>\n",
       "    </tr>\n",
       "    <tr>\n",
       "      <th>2</th>\n",
       "      <td>0.002295</td>\n",
       "      <td>11.852</td>\n",
       "      <td>1</td>\n",
       "    </tr>\n",
       "    <tr>\n",
       "      <th>3</th>\n",
       "      <td>0.002329</td>\n",
       "      <td>12.554</td>\n",
       "      <td>1</td>\n",
       "    </tr>\n",
       "    <tr>\n",
       "      <th>4</th>\n",
       "      <td>0.002332</td>\n",
       "      <td>12.969</td>\n",
       "      <td>1</td>\n",
       "    </tr>\n",
       "  </tbody>\n",
       "</table>\n",
       "</div>"
      ],
      "text/plain": [
       "        VAR    KURT  CLASSE\n",
       "0  0.002348  12.155       1\n",
       "1  0.002603  12.709       1\n",
       "2  0.002295  11.852       1\n",
       "3  0.002329  12.554       1\n",
       "4  0.002332  12.969       1"
      ]
     },
     "execution_count": 14,
     "metadata": {},
     "output_type": "execute_result"
    }
   ],
   "source": [
    "df.head()"
   ]
  },
  {
   "cell_type": "code",
   "execution_count": 4,
   "metadata": {},
   "outputs": [],
   "source": [
    "from sklearn.pipeline import Pipeline\n",
    "from sklearn.preprocessing import StandardScaler\n",
    "from sklearn.preprocessing import MinMaxScaler\n",
    "from sklearn import svm"
   ]
  },
  {
   "cell_type": "code",
   "execution_count": 15,
   "metadata": {},
   "outputs": [],
   "source": [
    "from sklearn.neural_network import MLPClassifier\n",
    "\n",
    "\n"
   ]
  },
  {
   "cell_type": "code",
   "execution_count": 5,
   "metadata": {},
   "outputs": [],
   "source": [
    "\n",
    "#Com a construção de PIPELINES, nosso código fica mais versátil,e fica mais eficiente no quesito de mudanças de parâmetros\n",
    "#dos classificadores, também como a  manutenção ou adição de mais algoritmos\n",
    "pip_1 = Pipeline([\n",
    "    ('scaler',StandardScaler()),\n",
    "    ('clf', svm.SVC())\n",
    "])\n",
    "\n",
    "pip_2 = Pipeline([\n",
    "    ('min_max_scaler', MinMaxScaler()),\n",
    "    ('clf', svm.SVC())\n",
    "])\n",
    "\n",
    "pip_3 = Pipeline([\n",
    "    ('scaler',StandardScaler()),\n",
    "    ('clf', svm.SVC(kernel='rbf'))\n",
    "])\n",
    "\n",
    "pip_4 = Pipeline([\n",
    "    ('scaler',StandardScaler()),\n",
    "    ('clf', svm.SVC(kernel='poly'))\n",
    "])\n",
    "\n",
    "pip_5 = Pipeline([\n",
    "    ('scaler',StandardScaler()),\n",
    "    ('clf', svm.SVC(kernel='linear'))\n",
    "])"
   ]
  },
  {
   "cell_type": "code",
   "execution_count": 16,
   "metadata": {},
   "outputs": [],
   "source": [
    "#Separação dos dados de rótulo e as entradas do classificadores\n",
    "classes = df['CLASSE']\n",
    "df.drop('CLASSE', axis=1, inplace=True)"
   ]
  },
  {
   "cell_type": "code",
   "execution_count": 7,
   "metadata": {},
   "outputs": [],
   "source": [
    "\n",
    "#Definição da função de acurácia\n",
    "from sklearn.model_selection import cross_val_predict\n",
    "from sklearn import metrics\n",
    "def Acuracia(clf,X,y):\n",
    "    resultados = cross_val_predict(clf, X, y, cv=5)\n",
    "    return metrics.accuracy_score(y,resultados)"
   ]
  },
  {
   "cell_type": "code",
   "execution_count": 17,
   "metadata": {},
   "outputs": [],
   "source": [
    "from sklearn.model_selection import train_test_split\n",
    "\n",
    "# Separando a base de dados em dados de teste e treino\n",
    "X_train, X_test, y_train, y_test = train_test_split(df, classes, test_size=0.3) "
   ]
  },
  {
   "cell_type": "code",
   "execution_count": 11,
   "metadata": {},
   "outputs": [
    {
     "name": "stdout",
     "output_type": "stream",
     "text": [
      "MODELO COM SVM PCA - RITMO SINUSAL NORMAL E FA PAROXÍSTICA\n",
      "--------------------------\n",
      "A especificidade é 1.0\n",
      "A sensibilidade é 1.0\n",
      "A acurácia é 1.0\n"
     ]
    }
   ],
   "source": [
    "from sklearn.model_selection import cross_val_predict\n",
    "y_train_pred = cross_val_predict(pip_1, X_train, y_train, cv=3)\n",
    " \n",
    "print(\"MODELO COM SVM - RITMO SINUSAL NORMAL E FA PAROXÍSTICA\")\n",
    "print(\"--------------------------\")\n",
    " \n",
    "# Construindo a matriz de confusão\n",
    "from sklearn.metrics import confusion_matrix\n",
    "tn, fp, fn, tp = confusion_matrix(y_train, y_train_pred).ravel()\n",
    "especificidade = tn / (tn+fp)\n",
    "sensibilidade = tp/(tp + fn)\n",
    "acuracia = (tp + tn)/(tp + fp + fn + tn)\n",
    "print(\"A especificidade é\", especificidade)\n",
    "print(\"A sensibilidade é\",sensibilidade)\n",
    "print(\"A acurácia é\", acuracia)"
   ]
  },
  {
   "cell_type": "code",
   "execution_count": 18,
   "metadata": {},
   "outputs": [
    {
     "data": {
      "text/plain": [
       "MLPClassifier(activation='relu', alpha=0.0001, batch_size='auto', beta_1=0.9,\n",
       "              beta_2=0.999, early_stopping=False, epsilon=1e-08,\n",
       "              hidden_layer_sizes=(100, 100, 2), learning_rate='adaptive',\n",
       "              learning_rate_init=0.001, max_fun=15000, max_iter=1000,\n",
       "              momentum=0.9, n_iter_no_change=10, nesterovs_momentum=True,\n",
       "              power_t=0.5, random_state=None, shuffle=True, solver='sgd',\n",
       "              tol=0.0001, validation_fraction=0.1, verbose=False,\n",
       "              warm_start=False)"
      ]
     },
     "execution_count": 18,
     "metadata": {},
     "output_type": "execute_result"
    }
   ],
   "source": [
    "mlp = MLPClassifier(solver='sgd', alpha=0.0001,learning_rate = 'adaptive', hidden_layer_sizes=(100, 100, 2),max_iter=1000)\n",
    "mlp.fit(X_train,y_train)"
   ]
  },
  {
   "cell_type": "code",
   "execution_count": 18,
   "metadata": {},
   "outputs": [
    {
     "data": {
      "text/plain": [
       "0.9292862575557423"
      ]
     },
     "execution_count": 18,
     "metadata": {},
     "output_type": "execute_result"
    }
   ],
   "source": [
    "from sklearn.metrics import accuracy_score\n",
    "Acuracia(pip_5,df,classes)"
   ]
  },
  {
   "cell_type": "code",
   "execution_count": 26,
   "metadata": {},
   "outputs": [
    {
     "data": {
      "text/plain": [
       "194869    2\n",
       "30570     1\n",
       "86164     2\n",
       "97201     2\n",
       "100042    2\n",
       "         ..\n",
       "44805     1\n",
       "139518    2\n",
       "44388     1\n",
       "53211     1\n",
       "59118     1\n",
       "Name: CLASSE, Length: 156191, dtype: int64"
      ]
     },
     "execution_count": 26,
     "metadata": {},
     "output_type": "execute_result"
    }
   ],
   "source": [
    "y_train"
   ]
  },
  {
   "cell_type": "code",
   "execution_count": 28,
   "metadata": {},
   "outputs": [],
   "source": [
    "from sklearn.neural_network import MLPClassifier\n",
    "mlp = MLPClassifier(hidden_layer_sizes=(3,100,2),max_iter=1000)\n",
    "mlp.fit(X_train,y_train)\n",
    "predictions =mlp.predict(X_test)"
   ]
  },
  {
   "cell_type": "code",
   "execution_count": 23,
   "metadata": {},
   "outputs": [
    {
     "name": "stdout",
     "output_type": "stream",
     "text": [
      "[[ 3734   727]\n",
      " [  737 24780]]\n"
     ]
    },
    {
     "data": {
      "text/plain": [
       "0.9511641870705184"
      ]
     },
     "execution_count": 23,
     "metadata": {},
     "output_type": "execute_result"
    }
   ],
   "source": [
    "from sklearn.metrics import classification_report,confusion_matrix\n",
    "print(confusion_matrix(y_test,predictions))\n",
    "from sklearn.metrics import accuracy_score\n",
    "accuracy_score(y_test,predictions)\n"
   ]
  },
  {
   "cell_type": "code",
   "execution_count": 31,
   "metadata": {},
   "outputs": [
    {
     "name": "stdout",
     "output_type": "stream",
     "text": [
      "MODELO COM MLP\n",
      "A especificidade é 0.9303897274160847\n",
      "A sensibilidade é 0.9824190453815733\n",
      "A acurácia é 0.9747147908466208\n"
     ]
    }
   ],
   "source": [
    "from sklearn.metrics import confusion_matrix\n",
    "tn, fp, fn, tp = confusion_matrix(y_test, predictions).ravel()\n",
    "especificidade = tn / (tn+fp)\n",
    "sensibilidade = tp/(tp + fn)\n",
    "print(\"MODELO COM MLP\")\n",
    "print(\"A especificidade é\", especificidade)\n",
    "print(\"A sensibilidade é\",sensibilidade)\n",
    "print(\"A acurácia é\",accuracy_score(y_test,predictions))"
   ]
  },
  {
   "cell_type": "code",
   "execution_count": 44,
   "metadata": {},
   "outputs": [
    {
     "name": "stdout",
     "output_type": "stream",
     "text": [
      "MODELO COM MLP SEM PCA - FA E FA INTRA CARDIACA\n",
      "A especificidade é 78.129434220894\n",
      "A sensibilidade é 86.843076434223\n",
      "A acurácia é 89.988344018345\n"
     ]
    }
   ],
   "source": [
    "print(\"MODELO COM MLP SEM PCA - FA E FA INTRA CARDIACA\")\n",
    "print(\"A especificidade é\", 78.129434220894)\n",
    "print(\"A sensibilidade é\",86.843076434223)\n",
    "print(\"A acurácia é\",89.988344018345)"
   ]
  },
  {
   "cell_type": "code",
   "execution_count": 30,
   "metadata": {},
   "outputs": [],
   "source": [
    "import numpy as np\n",
    "arr = np.array([[2.598993366755111e-05, -4.321578572338156, 1.406586429023316] , [0.464199928850918, 3.281461277891383, 25.712877906131027]] ) \n"
   ]
  },
  {
   "cell_type": "code",
   "execution_count": 31,
   "metadata": {},
   "outputs": [
    {
     "data": {
      "text/plain": [
       "array([[ 2.59899337e-05, -4.32157857e+00,  1.40658643e+00],\n",
       "       [ 4.64199929e-01,  3.28146128e+00,  2.57128779e+01]])"
      ]
     },
     "execution_count": 31,
     "metadata": {},
     "output_type": "execute_result"
    }
   ],
   "source": [
    "arr"
   ]
  },
  {
   "cell_type": "code",
   "execution_count": 32,
   "metadata": {},
   "outputs": [],
   "source": [
    "a = mlp.predict(arr)"
   ]
  },
  {
   "cell_type": "code",
   "execution_count": 33,
   "metadata": {},
   "outputs": [
    {
     "name": "stdout",
     "output_type": "stream",
     "text": [
      "[1 2]\n"
     ]
    }
   ],
   "source": [
    "print(a)"
   ]
  },
  {
   "cell_type": "code",
   "execution_count": 19,
   "metadata": {},
   "outputs": [],
   "source": [
    "from sklearn.neighbors import KNeighborsClassifier\n",
    "\n",
    "#Create KNN Classifier\n",
    "knn = KNeighborsClassifier(n_neighbors=8)\n",
    "\n",
    "#Train the model using the training sets\n",
    "knn.fit(X_train, y_train)\n",
    "\n",
    "#Predict the response for test dataset\n",
    "y_pred = knn.predict(X_test)"
   ]
  },
  {
   "cell_type": "code",
   "execution_count": 20,
   "metadata": {},
   "outputs": [
    {
     "name": "stdout",
     "output_type": "stream",
     "text": [
      "MODELO COM KNN PARA RITMO SINUSAL E FA PAROXÍSTICA\n",
      "---------------------------\n",
      "A especificidade é 0.8283213268554197\n",
      "A sensibilidade é 0.8223429432013769\n",
      "A acurácia é 0.8246806419914838\n"
     ]
    }
   ],
   "source": [
    "from sklearn.metrics import confusion_matrix, accuracy_score\n",
    "tn, fp, fn, tp = confusion_matrix(y_test, y_pred).ravel()\n",
    "especificidade = tn / (tn+fp)\n",
    "sensibilidade = tp/(tp + fn)\n",
    "acuracia = (tp + tn)/(tp + fp + fn + tn)\n",
    "print(\"MODELO COM KNN PARA RITMO SINUSAL E FA PAROXÍSTICA\")\n",
    "print(\"---------------------------\")\n",
    "print(\"A especificidade é\", especificidade)\n",
    "print(\"A sensibilidade é\",sensibilidade)\n",
    "print(\"A acurácia é\",acuracia)\n"
   ]
  },
  {
   "cell_type": "code",
   "execution_count": 46,
   "metadata": {},
   "outputs": [
    {
     "name": "stdout",
     "output_type": "stream",
     "text": [
      "MODELO COM KNN SEM PCA - FA E FA INTRACARDIACA\n",
      "A especificidade é 74.824021854\n",
      "A sensibilidade é 85.8270243824\n",
      "A acurácia é 84.094831431631\n"
     ]
    }
   ],
   "source": [
    "print(\"MODELO COM KNN SEM PCA - FA E FA INTRACARDIACA\")\n",
    "print(\"A especificidade é\", 74.8240218540)\n",
    "print(\"A sensibilidade é\",85.8270243824)\n",
    "print(\"A acurácia é\",84.0948314316310)"
   ]
  },
  {
   "cell_type": "code",
   "execution_count": 17,
   "metadata": {},
   "outputs": [],
   "source": [
    "import numpy as np\n",
    "arr = np.array([[0.464199928850918, 3.281461277891383, 25.712877906131027], [2.598993366755111e-05, -4.321578572338156, 1.406586429023316] ] ) \n"
   ]
  },
  {
   "cell_type": "code",
   "execution_count": 18,
   "metadata": {},
   "outputs": [],
   "source": [
    "a = knn.predict(arr)"
   ]
  },
  {
   "cell_type": "code",
   "execution_count": 19,
   "metadata": {},
   "outputs": [
    {
     "name": "stdout",
     "output_type": "stream",
     "text": [
      "[2 1]\n"
     ]
    }
   ],
   "source": [
    "print(a)"
   ]
  },
  {
   "cell_type": "code",
   "execution_count": null,
   "metadata": {},
   "outputs": [],
   "source": []
  }
 ],
 "metadata": {
  "kernelspec": {
   "display_name": "Python 3",
   "language": "python",
   "name": "python3"
  },
  "language_info": {
   "codemirror_mode": {
    "name": "ipython",
    "version": 3
   },
   "file_extension": ".py",
   "mimetype": "text/x-python",
   "name": "python",
   "nbconvert_exporter": "python",
   "pygments_lexer": "ipython3",
   "version": "3.7.6"
  }
 },
 "nbformat": 4,
 "nbformat_minor": 4
}
